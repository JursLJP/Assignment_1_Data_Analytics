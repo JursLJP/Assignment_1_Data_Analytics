{
 "cells": [
  {
   "cell_type": "markdown",
   "id": "aa3f5bf9-4a76-4e70-821a-5c6bfc8e3086",
   "metadata": {},
   "source": [
    "**Data Analytics Assignment #1: Balanced Risk Set Matching Algorithm\\\n",
    "Submitted by Pintor & Wang**"
   ]
  },
  {
   "cell_type": "markdown",
   "id": "c217f4c8-87c8-47c7-bd1b-6d9d2b15ad57",
   "metadata": {},
   "source": [
    "## **Introduction**\n",
    "This project implements the Balanced Risk Set Matching method described in the journal article by Li, Propert, and Rosenbaum (2001). The goal is to evaluate the effectiveness of a treatment (e.g., cystoscopy and hydrodistention) for interstitial cystitis (IC) using observational data. The method ensures that treated and control patients are comparable in terms of their symptom histories before treatment, minimizing biases that often arise in observational studies.\n",
    "\n",
    "The key procedures include:\n",
    "1. **Risk Set Matching**: Pairing treated patients with control patients who have similar symptom histories up to the time of treatment.\n",
    "2. **Balanced Matching**: Ensuring that the marginal distributions of symptoms are balanced between treated and control groups.\n",
    "3. **Optimal Matching**: Minimizing the multivariate pretreatment covariate distance within matched pairs."
   ]
  },
  {
   "cell_type": "markdown",
   "id": "613d9c94-1b94-47b4-98b8-456418c1d3a9",
   "metadata": {},
   "source": [
    "## **Step 1: Import Libraries**\n",
    "We start by importing the necessary Python libraries."
   ]
  },
  {
   "cell_type": "code",
   "execution_count": 1,
   "id": "e0b8c4b7-9b80-4d27-a903-a827db0364f3",
   "metadata": {},
   "outputs": [],
   "source": [
    "import numpy as np\n",
    "import pandas as pd\n",
    "import matplotlib.pyplot as plt\n",
    "import seaborn as sns\n",
    "from scipy.spatial.distance import mahalanobis\n",
    "from scipy.stats import norm, rankdata\n",
    "from sklearn.preprocessing import StandardScaler\n",
    "from itertools import combinations"
   ]
  },
  {
   "cell_type": "markdown",
   "id": "a69526e1-6372-4aa4-9d2d-53b47f2a98e2",
   "metadata": {},
   "source": [
    "## **Step 2: Generate Synthetic Data**\n",
    "Since we don't have access to the original dataset, we will generate synthetic data that mimics the structure of the Interstitial Cystitis Data Base (ICDB). Each patient has:\n",
    "- A baseline measurement of symptoms (pain, urgency, frequency).\n",
    "- Measurements at the time of treatment (if treated).\n",
    "- A treatment time (if treated)."
   ]
  },
  {
   "cell_type": "code",
   "execution_count": 2,
   "id": "d678f276-996b-4df0-83f8-67d3f3b032a1",
   "metadata": {},
   "outputs": [
    {
     "name": "stdout",
     "output_type": "stream",
     "text": [
      "   patient_id  baseline_pain  baseline_urgency  baseline_frequency  \\\n",
      "0           0              6                 3                   7   \n",
      "1           1              4                 6                   9   \n",
      "2           2              2                 6                   7   \n",
      "3           3              4                 3                   7   \n",
      "4           4              7                 2                   5   \n",
      "5           5              4                 1                   7   \n",
      "6           6              5                 1                   4   \n",
      "7           7              0                 9                   5   \n",
      "8           8              8                 0                   9   \n",
      "9           9              2                 6                   3   \n",
      "\n",
      "   treatment_time  treatment_pain  treatment_urgency  treatment_frequency  \\\n",
      "0             9.0             4.0                4.0                  7.0   \n",
      "1             6.0             6.0                4.0                 11.0   \n",
      "2            10.0             0.0                5.0                  5.0   \n",
      "3            12.0             5.0                3.0                  6.0   \n",
      "4             7.0             5.0                4.0                  4.0   \n",
      "5             5.0             3.0               -1.0                  6.0   \n",
      "6            10.0             7.0                0.0                  6.0   \n",
      "7             6.0            -2.0                9.0                  4.0   \n",
      "8             5.0             8.0                2.0                  8.0   \n",
      "9            11.0             3.0                6.0                  2.0   \n",
      "\n",
      "   treated  pain_3mo  pain_6mo  urgency_3mo  urgency_6mo  frequency_3mo  \\\n",
      "0      1.0  3.074206  3.732860     1.447273     2.578182       5.871493   \n",
      "1      1.0  4.770597  3.946192     2.696464     3.901373       9.000000   \n",
      "2      1.0  0.000000  0.576803     2.706855     5.231063       3.492892   \n",
      "3      1.0  3.657024  4.977016     1.399026     2.308543       3.828958   \n",
      "4      1.0  4.505502  4.601626     3.169694     3.662626       4.207809   \n",
      "5      1.0  1.971075  1.514390     0.000000     0.317856       4.683350   \n",
      "6      1.0  6.269669  6.523800     0.089665     0.000000       5.878644   \n",
      "7      1.0  0.000000  0.000000     9.000000     6.966532       3.762198   \n",
      "8      1.0  7.707716  5.549509     0.000000     1.894998       6.970110   \n",
      "9      1.0  2.722540  2.149577     4.317008     7.146543       0.825686   \n",
      "\n",
      "   frequency_6mo  \n",
      "0       5.161198  \n",
      "1       9.000000  \n",
      "2       4.526275  \n",
      "3       5.230312  \n",
      "4       3.105628  \n",
      "5       5.114107  \n",
      "6       6.012689  \n",
      "7       3.777911  \n",
      "8       7.230479  \n",
      "9       0.000000  \n"
     ]
    }
   ],
   "source": [
    "# Set random seed for reproducibility\n",
    "np.random.seed(42)\n",
    "\n",
    "# Generate synthetic data\n",
    "n_patients = 400\n",
    "n_treated = 100\n",
    "\n",
    "# Baseline symptoms (pain, urgency, frequency)\n",
    "baseline_symptoms = np.random.randint(0, 10, size=(n_patients, 3))\n",
    "\n",
    "# Treatment times (for treated patients)\n",
    "treatment_times = np.random.choice(np.arange(1, 13), size=n_treated, replace=True)\n",
    "\n",
    "# Symptom measurements at treatment time (random change from baseline)\n",
    "treatment_symptoms = baseline_symptoms[:n_treated] + np.random.randint(-2, 3, size=(n_treated, 3))\n",
    "\n",
    "# Create DataFrame\n",
    "data = pd.DataFrame({\n",
    "    'patient_id': np.arange(n_patients),\n",
    "    'baseline_pain': baseline_symptoms[:, 0],\n",
    "    'baseline_urgency': baseline_symptoms[:, 1],\n",
    "    'baseline_frequency': baseline_symptoms[:, 2],\n",
    "    'treatment_time': np.concatenate([treatment_times, np.repeat(np.nan, n_patients - n_treated)]),\n",
    "    'treatment_pain': np.concatenate([treatment_symptoms[:, 0], np.repeat(np.nan, n_patients - n_treated)]),\n",
    "    'treatment_urgency': np.concatenate([treatment_symptoms[:, 1], np.repeat(np.nan, n_patients - n_treated)]),\n",
    "    'treatment_frequency': np.concatenate([treatment_symptoms[:, 2], np.repeat(np.nan, n_patients - n_treated)]),\n",
    "    'treated': np.concatenate([np.ones(n_treated), np.zeros(n_patients - n_treated)])\n",
    "})\n",
    "\n",
    "# Split into treated and control groups\n",
    "treated = data[data['treated'] == 1].copy()\n",
    "controls = data[data['treated'] == 0].copy()\n",
    "\n",
    "# Function to simulate post-treatment outcomes\n",
    "def simulate_outcomes(base_value, treatment_effect, decay_rate):\n",
    "    return (\n",
    "        np.clip(base_value - treatment_effect + np.random.normal(0, 1, len(base_value)), 0, 9),\n",
    "        np.clip(base_value - (treatment_effect * decay_rate) + np.random.normal(0, 1, len(base_value)), 0, 9)\n",
    "    )\n",
    "\n",
    "# Simulating for treated patients\n",
    "treated['pain_3mo'], treated['pain_6mo'] = simulate_outcomes(treated['treatment_pain'], 1, 0.8)\n",
    "treated['urgency_3mo'], treated['urgency_6mo'] = simulate_outcomes(treated['treatment_urgency'], 1, 0.8)\n",
    "treated['frequency_3mo'], treated['frequency_6mo'] = simulate_outcomes(treated['treatment_frequency'], 1, 0.8)\n",
    "\n",
    "# Simulating for control patients (only random variation)\n",
    "controls['pain_3mo'] = np.clip(controls['baseline_pain'] + np.random.normal(0, 0.5, len(controls)), 0, 9)\n",
    "controls['pain_6mo'] = np.clip(controls['pain_3mo'] + np.random.normal(0, 0.5, len(controls)), 0, 9)\n",
    "controls['urgency_3mo'] = np.clip(controls['baseline_urgency'] + np.random.normal(0, 0.5, len(controls)), 0, 9)\n",
    "controls['urgency_6mo'] = np.clip(controls['urgency_3mo'] + np.random.normal(0, 0.5, len(controls)), 0, 9)\n",
    "controls['frequency_3mo'] = np.clip(controls['baseline_frequency'] + np.random.normal(0, 0.5, len(controls)), 0, 9)\n",
    "controls['frequency_6mo'] = np.clip(controls['frequency_3mo'] + np.random.normal(0, 0.5, len(controls)), 0, 9)\n",
    "\n",
    "# Combine treated and control groups back into one dataset\n",
    "all_data = pd.concat([treated, controls], ignore_index=True)\n",
    "\n",
    "# Show final dataset\n",
    "print(all_data.head(10))\n"
   ]
  },
  {
   "cell_type": "markdown",
   "id": "946d80f0-ed7f-4763-8dc0-5506d1754407",
   "metadata": {},
   "source": [
    "## **Step 3: Risk Set Matching**\n",
    "We implement risk set matching by pairing each treated patient with a control patient who has not yet received treatment at the time of treatment. We use the Mahalanobis distance to measure similarity between patients based on their symptom histories. For control patients, we will use their baseline values as proxies for the missing treatment_pain, treatment_urgency, and treatment_frequency values."
   ]
  },
  {
   "cell_type": "code",
   "execution_count": 3,
   "id": "60b3b9de-4f28-41fe-99ff-ae0dd03f800b",
   "metadata": {},
   "outputs": [
    {
     "data": {
      "text/html": [
       "<div>\n",
       "<style scoped>\n",
       "    .dataframe tbody tr th:only-of-type {\n",
       "        vertical-align: middle;\n",
       "    }\n",
       "\n",
       "    .dataframe tbody tr th {\n",
       "        vertical-align: top;\n",
       "    }\n",
       "\n",
       "    .dataframe thead th {\n",
       "        text-align: right;\n",
       "    }\n",
       "</style>\n",
       "<table border=\"1\" class=\"dataframe\">\n",
       "  <thead>\n",
       "    <tr style=\"text-align: right;\">\n",
       "      <th></th>\n",
       "      <th>treated_id</th>\n",
       "      <th>control_id</th>\n",
       "      <th>distance</th>\n",
       "    </tr>\n",
       "  </thead>\n",
       "  <tbody>\n",
       "    <tr>\n",
       "      <th>0</th>\n",
       "      <td>0</td>\n",
       "      <td>279</td>\n",
       "      <td>3.321388</td>\n",
       "    </tr>\n",
       "    <tr>\n",
       "      <th>1</th>\n",
       "      <td>1</td>\n",
       "      <td>295</td>\n",
       "      <td>4.667116</td>\n",
       "    </tr>\n",
       "    <tr>\n",
       "      <th>2</th>\n",
       "      <td>2</td>\n",
       "      <td>146</td>\n",
       "      <td>3.988195</td>\n",
       "    </tr>\n",
       "    <tr>\n",
       "      <th>3</th>\n",
       "      <td>3</td>\n",
       "      <td>282</td>\n",
       "      <td>2.152141</td>\n",
       "    </tr>\n",
       "    <tr>\n",
       "      <th>4</th>\n",
       "      <td>4</td>\n",
       "      <td>310</td>\n",
       "      <td>4.213273</td>\n",
       "    </tr>\n",
       "  </tbody>\n",
       "</table>\n",
       "</div>"
      ],
      "text/plain": [
       "   treated_id  control_id  distance\n",
       "0           0         279  3.321388\n",
       "1           1         295  4.667116\n",
       "2           2         146  3.988195\n",
       "3           3         282  2.152141\n",
       "4           4         310  4.213273"
      ]
     },
     "execution_count": 3,
     "metadata": {},
     "output_type": "execute_result"
    }
   ],
   "source": [
    "# Impute missing treatment values for control patients using baseline values\n",
    "data.loc[data['treated'] == 0, 'treatment_pain'] = data.loc[data['treated'] == 0, 'baseline_pain']\n",
    "data.loc[data['treated'] == 0, 'treatment_urgency'] = data.loc[data['treated'] == 0, 'baseline_urgency']\n",
    "data.loc[data['treated'] == 0, 'treatment_frequency'] = data.loc[data['treated'] == 0, 'baseline_frequency']\n",
    "\n",
    "# Calculate the inverse covariance matrix for Mahalanobis distance\n",
    "symptoms = data[['baseline_pain', 'baseline_urgency', 'baseline_frequency',\n",
    "                 'treatment_pain', 'treatment_urgency', 'treatment_frequency']]\n",
    "cov_matrix = symptoms.cov()\n",
    "cov_inv = np.linalg.inv(cov_matrix)\n",
    "\n",
    "# Function to calculate Mahalanobis distance\n",
    "def calculate_mahalanobis(x, y, cov_inv):\n",
    "    return mahalanobis(x, y, cov_inv)\n",
    "\n",
    "# Perform risk set matching\n",
    "matched_pairs = []\n",
    "\n",
    "for i, treated_patient in data[data['treated'] == 1].iterrows():\n",
    "    treatment_time = treated_patient['treatment_time']\n",
    "    treated_symptoms = treated_patient[['baseline_pain', 'baseline_urgency', 'baseline_frequency',\n",
    "                                       'treatment_pain', 'treatment_urgency', 'treatment_frequency']].values\n",
    "    \n",
    "    # Find potential controls (not yet treated at treatment_time)\n",
    "    potential_controls = data[(data['treated'] == 0) & \n",
    "                              (data['treatment_time'].isna() | (data['treatment_time'] > treatment_time))]\n",
    "    \n",
    "    # Calculate Mahalanobis distances\n",
    "    distances = []\n",
    "    for j, control_patient in potential_controls.iterrows():\n",
    "        control_symptoms = control_patient[['baseline_pain', 'baseline_urgency', 'baseline_frequency',\n",
    "                                            'treatment_pain', 'treatment_urgency', 'treatment_frequency']].values\n",
    "        distance = calculate_mahalanobis(treated_symptoms, control_symptoms, cov_inv)\n",
    "        distances.append((j, distance))\n",
    "    \n",
    "    # Find the closest control\n",
    "    if distances:\n",
    "        closest_control = min(distances, key=lambda x: x[1])\n",
    "        matched_pairs.append((i, closest_control[0], closest_control[1]))\n",
    "\n",
    "# Convert matched pairs to DataFrame\n",
    "matched_pairs_df = pd.DataFrame(matched_pairs, columns=['treated_id', 'control_id', 'distance'])\n",
    "matched_pairs_df.head()"
   ]
  },
  {
   "cell_type": "markdown",
   "id": "42aac9bb-581c-4c2c-8bef-d1d94bbed4c4",
   "metadata": {},
   "source": [
    "## **Step 4: Balanced Matching**\n",
    "We ensure that the marginal distributions of symptoms are balanced between treated and control groups. This is done by dividing the symptom variables into quantiles and ensuring that the number of patients in each quantile is the same for treated and control groups."
   ]
  },
  {
   "cell_type": "code",
   "execution_count": 4,
   "id": "7235ea5a-969b-4df1-9abf-cc091e6ed8d7",
   "metadata": {},
   "outputs": [
    {
     "name": "stdout",
     "output_type": "stream",
     "text": [
      "Warning: baseline_pain is not balanced.\n",
      "Warning: baseline_urgency is not balanced.\n",
      "Warning: baseline_frequency is not balanced.\n",
      "Warning: treatment_pain is not balanced.\n",
      "Warning: treatment_urgency is not balanced.\n",
      "Warning: treatment_frequency is not balanced.\n"
     ]
    }
   ],
   "source": [
    "# Function to balance covariates\n",
    "def balance_covariates(matched_pairs_df, data, covariates):\n",
    "    balanced_pairs = []\n",
    "    \n",
    "    for covariate in covariates:\n",
    "        # Divide into quantiles\n",
    "        quantiles = np.percentile(data[covariate], [33, 66])\n",
    "        data[f'{covariate}_group'] = pd.cut(data[covariate], bins=[-np.inf, *quantiles, np.inf], labels=[0, 1, 2])\n",
    "        \n",
    "        # Ensure balance in matched pairs\n",
    "        treated_groups = data.loc[matched_pairs_df['treated_id'], f'{covariate}_group'].value_counts()\n",
    "        control_groups = data.loc[matched_pairs_df['control_id'], f'{covariate}_group'].value_counts()\n",
    "        \n",
    "        if not treated_groups.equals(control_groups):\n",
    "            print(f\"Warning: {covariate} is not balanced.\")\n",
    "    \n",
    "    return matched_pairs_df\n",
    "\n",
    "# Balance covariates\n",
    "covariates = ['baseline_pain', 'baseline_urgency', 'baseline_frequency',\n",
    "              'treatment_pain', 'treatment_urgency', 'treatment_frequency']\n",
    "balanced_pairs_df = balance_covariates(matched_pairs_df, data, covariates)"
   ]
  },
  {
   "cell_type": "markdown",
   "id": "7637f77c-2514-4e18-8d7d-b30554178994",
   "metadata": {},
   "source": [
    "As we can see, its not balanced yet. Therefore we need to enforce balance during the matching process."
   ]
  },
  {
   "cell_type": "markdown",
   "id": "e377e757-30b4-4546-8d1c-9355f61bab90",
   "metadata": {},
   "source": [
    "### **Step 4.1: Define the Balanced Matching Function**\n",
    "We’ll create a function that enforces balance by ensuring that the number of treated and control patients in each quantile is the same. This function will use **integer programming** to find the optimal matching that minimizes the Mahalanobis distance while satisfying the balance constraints."
   ]
  },
  {
   "cell_type": "code",
   "execution_count": 5,
   "id": "37192c47-1402-49f6-9628-dc6fafe7eecc",
   "metadata": {},
   "outputs": [],
   "source": [
    "# Function to enforce balance during matching\n",
    "def balanced_matching(data, covariates, n_quantiles=3):\n",
    "    # Step 1: Divide each covariate into quantiles\n",
    "    for covariate in covariates:\n",
    "        quantiles = np.percentile(data[covariate], np.linspace(0, 100, n_quantiles + 1)[1:-1])\n",
    "        data[f'{covariate}_group'] = pd.cut(data[covariate], bins=[-np.inf, *quantiles, np.inf], labels=range(n_quantiles))\n",
    "    \n",
    "    # Step 2: Initialize empty list for matched pairs\n",
    "    matched_pairs = []\n",
    "    \n",
    "    # Step 3: Match within each quantile across all covariates\n",
    "    grouped_data = data.groupby([f'{cov}_group' for cov in covariates])\n",
    "    \n",
    "    for _, group in grouped_data:\n",
    "        treated = group[group['treated'] == 1]\n",
    "        controls = group[group['treated'] == 0]\n",
    "        \n",
    "        # Ensure balance by taking the min number of available pairs\n",
    "        num_matches = min(len(treated), len(controls))\n",
    "        if num_matches == 0:\n",
    "            continue\n",
    "        \n",
    "        treated = treated.sample(n=num_matches, random_state=42)\n",
    "        controls = controls.sample(n=num_matches, random_state=42)\n",
    "        \n",
    "        # Step 4: Compute Mahalanobis distances within the quantile group\n",
    "        cov_matrix = group[covariates].cov()\n",
    "        cov_inv = np.linalg.pinv(cov_matrix)  # Use pseudo-inverse for numerical stability\n",
    "        \n",
    "        cost_matrix = np.zeros((num_matches, num_matches))\n",
    "        for i in range(num_matches):\n",
    "            treated_symptoms = treated.iloc[i][covariates].values\n",
    "            for j in range(num_matches):\n",
    "                control_symptoms = controls.iloc[j][covariates].values\n",
    "                cost_matrix[i, j] = mahalanobis(treated_symptoms, control_symptoms, cov_inv)\n",
    "        \n",
    "        # Step 5: Solve the assignment problem\n",
    "        row_ind, col_ind = linear_sum_assignment(cost_matrix)\n",
    "        \n",
    "        # Step 6: Save matched pairs\n",
    "        for i, j in zip(row_ind, col_ind):\n",
    "            matched_pairs.append((treated.index[i], controls.index[j]))\n",
    "    \n",
    "    # Convert matched pairs to DataFrame\n",
    "    matched_pairs_df = pd.DataFrame(matched_pairs, columns=['treated_id', 'control_id'])\n",
    "    return matched_pairs_df"
   ]
  },
  {
   "cell_type": "markdown",
   "id": "46a0fc73-26c2-4e0a-88f4-d9b1fd46e184",
   "metadata": {},
   "source": [
    "- We divided each covariate into quantiles (e.g., 0–33%, 33–66%, 66–100%) and ensured that the number of treated and control patients in each quantile is the same.\n",
    "- This ensures that the marginal distributions of the covariates are balanced between treated and control groups.\n",
    "- We used the Hungarian algorithm (via scipy.optimize.linear_sum_assignment) to find the optimal matching that minimizes the Mahalanobis distance while satisfying the balance constraints."
   ]
  },
  {
   "cell_type": "markdown",
   "id": "7530eb78-214a-40a7-8850-b56f942a9765",
   "metadata": {},
   "source": [
    "### **Step 4.2: Perform Balanced Matching**\n",
    "Now, use the balanced_matching function to perform the matching while enforcing balance"
   ]
  },
  {
   "cell_type": "code",
   "execution_count": 6,
   "id": "05848cc3-6d97-4c70-bd78-e57c207f1c78",
   "metadata": {},
   "outputs": [
    {
     "name": "stderr",
     "output_type": "stream",
     "text": [
      "C:\\Users\\Hope\\AppData\\Local\\Temp\\ipykernel_20008\\946137218.py:12: FutureWarning: The default of observed=False is deprecated and will be changed to True in a future version of pandas. Pass observed=False to retain current behavior or observed=True to adopt the future default and silence this warning.\n",
      "  grouped_data = data.groupby([f'{cov}_group' for cov in covariates])\n"
     ]
    },
    {
     "name": "stdout",
     "output_type": "stream",
     "text": [
      "   treated_id  control_id\n",
      "0          68         103\n",
      "1          80         318\n",
      "2          61         114\n",
      "3          77         214\n",
      "4          59         116\n"
     ]
    }
   ],
   "source": [
    "from scipy.optimize import linear_sum_assignment\n",
    "\n",
    "# Perform balanced matching\n",
    "covariates = ['baseline_pain', 'baseline_urgency', 'baseline_frequency',\n",
    "              'treatment_pain', 'treatment_urgency', 'treatment_frequency']\n",
    "balanced_pairs_df = balanced_matching(data, covariates)\n",
    "\n",
    "# Display the balanced matched pairs\n",
    "print(balanced_pairs_df.head())"
   ]
  },
  {
   "cell_type": "markdown",
   "id": "23d46314-2b51-4e37-8748-31dda7200cf1",
   "metadata": {},
   "source": [
    "### **Step 4.3: Verify Balance**\n",
    "After running the above code, check the balanced_pairs_df DataFrame to ensure that the covariates are now balanced. The warnings should no longer appear."
   ]
  },
  {
   "cell_type": "code",
   "execution_count": 7,
   "id": "f7823666-fdec-4cd6-9fbc-bf43e277bb61",
   "metadata": {},
   "outputs": [
    {
     "name": "stdout",
     "output_type": "stream",
     "text": [
      "baseline_pain balance:\n",
      "Treated: baseline_pain_group\n",
      "0    19\n",
      "2    14\n",
      "1     6\n",
      "Name: count, dtype: int64\n",
      "Control: baseline_pain_group\n",
      "0    19\n",
      "2    14\n",
      "1     6\n",
      "Name: count, dtype: int64\n",
      "baseline_urgency balance:\n",
      "Treated: baseline_urgency_group\n",
      "0    21\n",
      "1    11\n",
      "2     7\n",
      "Name: count, dtype: int64\n",
      "Control: baseline_urgency_group\n",
      "0    21\n",
      "1    11\n",
      "2     7\n",
      "Name: count, dtype: int64\n",
      "baseline_frequency balance:\n",
      "Treated: baseline_frequency_group\n",
      "0    19\n",
      "1    12\n",
      "2     8\n",
      "Name: count, dtype: int64\n",
      "Control: baseline_frequency_group\n",
      "0    19\n",
      "1    12\n",
      "2     8\n",
      "Name: count, dtype: int64\n",
      "treatment_pain balance:\n",
      "Treated: treatment_pain_group\n",
      "0    19\n",
      "2    14\n",
      "1     6\n",
      "Name: count, dtype: int64\n",
      "Control: treatment_pain_group\n",
      "0    19\n",
      "2    14\n",
      "1     6\n",
      "Name: count, dtype: int64\n",
      "treatment_urgency balance:\n",
      "Treated: treatment_urgency_group\n",
      "0    21\n",
      "1    11\n",
      "2     7\n",
      "Name: count, dtype: int64\n",
      "Control: treatment_urgency_group\n",
      "0    21\n",
      "1    11\n",
      "2     7\n",
      "Name: count, dtype: int64\n",
      "treatment_frequency balance:\n",
      "Treated: treatment_frequency_group\n",
      "0    19\n",
      "1    12\n",
      "2     8\n",
      "Name: count, dtype: int64\n",
      "Control: treatment_frequency_group\n",
      "0    19\n",
      "1    12\n",
      "2     8\n",
      "Name: count, dtype: int64\n"
     ]
    }
   ],
   "source": [
    "# Check balance for each covariate\n",
    "for covariate in covariates:\n",
    "    treated_groups = data.loc[balanced_pairs_df['treated_id'], f'{covariate}_group'].value_counts()\n",
    "    control_groups = data.loc[balanced_pairs_df['control_id'], f'{covariate}_group'].value_counts()\n",
    "    print(f\"{covariate} balance:\")\n",
    "    print(\"Treated:\", treated_groups)\n",
    "    print(\"Control:\", control_groups)"
   ]
  },
  {
   "cell_type": "markdown",
   "id": "994fd5d7-de6c-4b2e-9dae-d6c45629111d",
   "metadata": {},
   "source": [
    "## **Step 5: Visualize Results**\n",
    "We visualize the results using boxplots, similar to the journal article. This helps us compare the treated and control groups before and after treatment."
   ]
  },
  {
   "cell_type": "code",
   "execution_count": 20,
   "id": "89b87755-ff12-4f31-92a9-43383b5aca80",
   "metadata": {},
   "outputs": [
    {
     "name": "stderr",
     "output_type": "stream",
     "text": [
      "C:\\Users\\Hope\\AppData\\Local\\Temp\\ipykernel_20008\\3536350685.py:67: FutureWarning: \n",
      "\n",
      "Passing `palette` without assigning `hue` is deprecated and will be removed in v0.14.0. Assign the `x` variable to `hue` and set `legend=False` for the same effect.\n",
      "\n",
      "  sns.boxplot(\n",
      "C:\\Users\\Hope\\AppData\\Local\\Temp\\ipykernel_20008\\3536350685.py:67: FutureWarning: \n",
      "\n",
      "Passing `palette` without assigning `hue` is deprecated and will be removed in v0.14.0. Assign the `x` variable to `hue` and set `legend=False` for the same effect.\n",
      "\n",
      "  sns.boxplot(\n",
      "C:\\Users\\Hope\\AppData\\Local\\Temp\\ipykernel_20008\\3536350685.py:67: FutureWarning: \n",
      "\n",
      "Passing `palette` without assigning `hue` is deprecated and will be removed in v0.14.0. Assign the `x` variable to `hue` and set `legend=False` for the same effect.\n",
      "\n",
      "  sns.boxplot(\n",
      "C:\\Users\\Hope\\AppData\\Local\\Temp\\ipykernel_20008\\3536350685.py:67: FutureWarning: \n",
      "\n",
      "Passing `palette` without assigning `hue` is deprecated and will be removed in v0.14.0. Assign the `x` variable to `hue` and set `legend=False` for the same effect.\n",
      "\n",
      "  sns.boxplot(\n",
      "C:\\Users\\Hope\\AppData\\Local\\Temp\\ipykernel_20008\\3536350685.py:67: FutureWarning: \n",
      "\n",
      "Passing `palette` without assigning `hue` is deprecated and will be removed in v0.14.0. Assign the `x` variable to `hue` and set `legend=False` for the same effect.\n",
      "\n",
      "  sns.boxplot(\n",
      "C:\\Users\\Hope\\AppData\\Local\\Temp\\ipykernel_20008\\3536350685.py:67: FutureWarning: \n",
      "\n",
      "Passing `palette` without assigning `hue` is deprecated and will be removed in v0.14.0. Assign the `x` variable to `hue` and set `legend=False` for the same effect.\n",
      "\n",
      "  sns.boxplot(\n",
      "C:\\Users\\Hope\\AppData\\Local\\Temp\\ipykernel_20008\\3536350685.py:67: FutureWarning: \n",
      "\n",
      "Passing `palette` without assigning `hue` is deprecated and will be removed in v0.14.0. Assign the `x` variable to `hue` and set `legend=False` for the same effect.\n",
      "\n",
      "  sns.boxplot(\n",
      "C:\\Users\\Hope\\AppData\\Local\\Temp\\ipykernel_20008\\3536350685.py:67: FutureWarning: \n",
      "\n",
      "Passing `palette` without assigning `hue` is deprecated and will be removed in v0.14.0. Assign the `x` variable to `hue` and set `legend=False` for the same effect.\n",
      "\n",
      "  sns.boxplot(\n",
      "C:\\Users\\Hope\\AppData\\Local\\Temp\\ipykernel_20008\\3536350685.py:67: FutureWarning: \n",
      "\n",
      "Passing `palette` without assigning `hue` is deprecated and will be removed in v0.14.0. Assign the `x` variable to `hue` and set `legend=False` for the same effect.\n",
      "\n",
      "  sns.boxplot(\n",
      "C:\\Users\\Hope\\AppData\\Local\\Temp\\ipykernel_20008\\3536350685.py:67: FutureWarning: \n",
      "\n",
      "Passing `palette` without assigning `hue` is deprecated and will be removed in v0.14.0. Assign the `x` variable to `hue` and set `legend=False` for the same effect.\n",
      "\n",
      "  sns.boxplot(\n",
      "C:\\Users\\Hope\\AppData\\Local\\Temp\\ipykernel_20008\\3536350685.py:67: FutureWarning: \n",
      "\n",
      "Passing `palette` without assigning `hue` is deprecated and will be removed in v0.14.0. Assign the `x` variable to `hue` and set `legend=False` for the same effect.\n",
      "\n",
      "  sns.boxplot(\n",
      "C:\\Users\\Hope\\AppData\\Local\\Temp\\ipykernel_20008\\3536350685.py:67: FutureWarning: \n",
      "\n",
      "Passing `palette` without assigning `hue` is deprecated and will be removed in v0.14.0. Assign the `x` variable to `hue` and set `legend=False` for the same effect.\n",
      "\n",
      "  sns.boxplot(\n"
     ]
    },
    {
     "data": {
      "image/png": "[encoded data removed]",
      "text/plain": [
       "<Figure size 1800x1600 with 12 Axes>"
      ]
     },
     "metadata": {},
     "output_type": "display_data"
    }
   ],
   "source": [
    "import matplotlib.pyplot as plt\n",
    "import seaborn as sns\n",
    "import pandas as pd\n",
    "\n",
    "# Standardize column names for consistency\n",
    "rename_dict = {\n",
    "    'baseline_pain': 'pain_baseline',\n",
    "    'baseline_urgency': 'urgency_baseline',\n",
    "    'baseline_frequency': 'frequency_baseline',\n",
    "    'treatment_pain': 'pain_treatment',\n",
    "    'treatment_urgency': 'urgency_treatment',\n",
    "    'treatment_frequency': 'frequency_treatment',\n",
    "    'pain_3mo': 'pain_3mo',\n",
    "    'urgency_3mo': 'urgency_3mo',\n",
    "    'frequency_3mo': 'frequency_3mo',\n",
    "    'pain_6mo': 'pain_6mo',\n",
    "    'urgency_6mo': 'urgency_6mo',\n",
    "    'frequency_6mo': 'frequency_6mo'\n",
    "}\n",
    "\n",
    "all_data = all_data.rename(columns=rename_dict)\n",
    "\n",
    "# Ensure control group's treatment values match their baseline values\n",
    "for symptom in ['pain', 'urgency', 'frequency']:\n",
    "    baseline_col = f'{symptom}_baseline'\n",
    "    treatment_col = f'{symptom}_treatment'\n",
    "    all_data.loc[all_data['treated'] == 0, treatment_col] = all_data.loc[all_data['treated'] == 0, baseline_col]\n",
    "\n",
    "# Prepare matched data, ensuring IDs exist in the dataset\n",
    "matched_data = pd.concat([\n",
    "    all_data.loc[all_data.index.isin(balanced_pairs_df['treated_id'])].assign(group='Treated'),\n",
    "    all_data.loc[all_data.index.isin(balanced_pairs_df['control_id'])].assign(group='Control')\n",
    "])\n",
    "\n",
    "# Define symptoms and time points\n",
    "symptoms = ['pain', 'urgency', 'frequency']\n",
    "time_points = ['baseline', 'treatment', '3mo', '6mo']\n",
    "\n",
    "# Filter valid columns\n",
    "valid_columns = set(matched_data.columns) & {f'{symptom}_{time}' for symptom in symptoms for time in time_points}\n",
    "\n",
    "# Reshape data into long format\n",
    "long_data = matched_data.melt(\n",
    "    id_vars=['group'], \n",
    "    value_vars=list(valid_columns),\n",
    "    var_name='symptom_time', \n",
    "    value_name='score'\n",
    ")\n",
    "\n",
    "# Drop NaN values before splitting\n",
    "long_data = long_data.dropna(subset=['score'])\n",
    "\n",
    "# Split 'symptom_time' column into 'symptom' and 'time'\n",
    "long_data[['symptom', 'time']] = long_data['symptom_time'].str.rsplit('_', n=1, expand=True)\n",
    "\n",
    "# Define time order for plotting\n",
    "time_order = ['baseline', 'treatment', '3mo', '6mo']\n",
    "\n",
    "# Create a 4-row, 3-column figure\n",
    "fig, axes = plt.subplots(4, 3, figsize=(18, 16))\n",
    "fig.suptitle(\"Symptom Scores Over Time\", fontsize=18)\n",
    "\n",
    "# Plot boxplots\n",
    "for i, symptom in enumerate(symptoms):\n",
    "    for j, time in enumerate(time_order):\n",
    "        ax = axes[j, i]\n",
    "        sns.boxplot(\n",
    "            x='group', y='score',\n",
    "            data=long_data[(long_data['symptom'] == symptom) & (long_data['time'] == time)],\n",
    "            palette='Set2', ax=ax\n",
    "        )\n",
    "        ax.set_title(f\"{symptom.title()} ({time.title()})\")\n",
    "        ax.set_xlabel(\"Group\")\n",
    "        ax.set_ylabel(\"Score\")\n",
    "\n",
    "# Adjust layout and show plot\n",
    "plt.tight_layout(rect=[0, 0, 1, 0.96])\n",
    "plt.show()\n"
   ]
  },
  {
   "cell_type": "markdown",
   "id": "9b2242c4-23b7-45c8-ae7f-4b915c53656d",
   "metadata": {},
   "source": [
    "## **Step 7: Statistical Analysis**\n",
    "This section focuses on analyzing the treatment effects using paired comparisons between treated and control groups. We will compute:\n",
    "- Trimeans to summarize central tendency robustly.\n",
    "- Wilcoxon signed-rank tests to assess the significance of the treatment effect.\n",
    "- Sensitivity analysis to examine robustness against hidden bias.\n",
    "- Equivalence testing to determine if differences are practically insignificant."
   ]
  },
  {
   "cell_type": "markdown",
   "id": "af9bfec8-123f-4bff-bd28-7c405be2ac78",
   "metadata": {},
   "source": [
    "### **7.1 Compute Paired Differences & Trimean**\n",
    "The trimean is a robust measure of central tendency combining the median and quartiles. It helps summarize treatment effects in a way that reduces sensitivity to outliers."
   ]
  },
  {
   "cell_type": "code",
   "execution_count": 14,
   "id": "49d231ad-5146-49eb-8574-cf3598b2e815",
   "metadata": {},
   "outputs": [
    {
     "name": "stdout",
     "output_type": "stream",
     "text": [
      "Trimean for Pain: 0.0\n",
      "Trimean for Urgency: 0.0\n",
      "Trimean for Frequency: -0.125\n"
     ]
    }
   ],
   "source": [
    "import numpy as np\n",
    "import pandas as pd\n",
    "from scipy.stats import wilcoxon\n",
    "import matplotlib.pyplot as plt\n",
    "\n",
    "# Function to calculate trimean\n",
    "def trimean(data):\n",
    "    q1 = np.percentile(data, 25)\n",
    "    median = np.median(data)\n",
    "    q3 = np.percentile(data, 75)\n",
    "    return (q1 + 2 * median + q3) / 4\n",
    "\n",
    "# Ensure necessary columns exist by merging data\n",
    "balanced_pairs_df = balanced_pairs_df.merge(\n",
    "    all_data[['patient_id', 'pain_treatment', 'urgency_treatment', 'frequency_treatment']],\n",
    "    left_on='treated_id', right_on='patient_id'\n",
    ").drop(columns=['patient_id'])\n",
    "\n",
    "balanced_pairs_df = balanced_pairs_df.merge(\n",
    "    all_data[['patient_id', 'pain_baseline', 'urgency_baseline', 'frequency_baseline']],\n",
    "    left_on='control_id', right_on='patient_id', suffixes=('_treated', '_control')\n",
    ").drop(columns=['patient_id'])\n",
    "\n",
    "# Calculate paired differences\n",
    "balanced_pairs_df['pain_contrast'] = balanced_pairs_df['pain_treatment_treated'] - balanced_pairs_df['pain_treatment_control']\n",
    "balanced_pairs_df['urgency_contrast'] = balanced_pairs_df['urgency_treatment_treated'] - balanced_pairs_df['urgency_treatment_control']\n",
    "balanced_pairs_df['frequency_contrast'] = balanced_pairs_df['frequency_treatment_treated'] - balanced_pairs_df['frequency_treatment_control']\n",
    "\n",
    "# Compute trimeans\n",
    "pain_trimean = trimean(balanced_pairs_df['pain_contrast'].dropna())\n",
    "urgency_trimean = trimean(balanced_pairs_df['urgency_contrast'].dropna())\n",
    "frequency_trimean = trimean(balanced_pairs_df['frequency_contrast'].dropna())\n",
    "\n",
    "# Display results\n",
    "print(f\"Trimean for Pain: {pain_trimean}\")\n",
    "print(f\"Trimean for Urgency: {urgency_trimean}\")\n",
    "print(f\"Trimean for Frequency: {frequency_trimean}\")"
   ]
  },
  {
   "cell_type": "markdown",
   "id": "c4f34c1e-0f8e-4b50-9acf-bbb46553ec36",
   "metadata": {},
   "source": [
    "**Interpretation**\n",
    "- A positive trimean suggests a higher score in the treated group.\n",
    "- A negative trimean suggests a lower score in the treated group.\n",
    "- Values close to zero imply no treatment effect."
   ]
  },
  {
   "cell_type": "markdown",
   "id": "0b0b94a9-0349-4ee8-9013-e7709e40beaf",
   "metadata": {},
   "source": [
    "### **7.2 Wilcoxon Signed-Rank Test**\n",
    "The Wilcoxon signed-rank test is a non-parametric test that evaluates whether there is a statistically significant difference between the treatment and control groups."
   ]
  },
  {
   "cell_type": "code",
   "execution_count": 15,
   "id": "1053abb6-47d2-4e06-b73a-f57b95f8a13b",
   "metadata": {},
   "outputs": [
    {
     "name": "stdout",
     "output_type": "stream",
     "text": [
      "P-value for Pain: 0.6629320593594055\n",
      "P-value for Urgency: 0.7085524029392993\n",
      "P-value for Frequency: 0.28430461881660096\n"
     ]
    }
   ],
   "source": [
    "# Perform Wilcoxon signed-rank tests\n",
    "pain_pvalue = wilcoxon(balanced_pairs_df['pain_contrast'].dropna()).pvalue\n",
    "urgency_pvalue = wilcoxon(balanced_pairs_df['urgency_contrast'].dropna()).pvalue\n",
    "frequency_pvalue = wilcoxon(balanced_pairs_df['frequency_contrast'].dropna()).pvalue\n",
    "\n",
    "print(f\"P-value for Pain: {pain_pvalue}\")\n",
    "print(f\"P-value for Urgency: {urgency_pvalue}\")\n",
    "print(f\"P-value for Frequency: {frequency_pvalue}\")"
   ]
  },
  {
   "cell_type": "markdown",
   "id": "bfcc4d20-3546-4d8d-8305-ed641aade14e",
   "metadata": {},
   "source": [
    "**Interpretation**\n",
    "- If **p-value < 0.05**, the difference is statistically significant (rejects null hypothesis).\n",
    "- If **p-value ≥ 0.05**, the difference is not statistically significant (fails to reject null hypothesis).\n",
    "- The Wilcoxon test accounts for matched pairs, ensuring a fairer comparison than a simple t-test."
   ]
  },
  {
   "cell_type": "markdown",
   "id": "d3e3cd92-ebf2-4a53-a92d-9d900835e2d7",
   "metadata": {},
   "source": [
    "### **7.3 Sensitivity Analysis**\n",
    "Sensitivity analysis evaluates how hidden biases (unmeasured confounders) might affect statistical conclusions. We introduce a sensitivity parameter (Γ) and adjust differences accordingly."
   ]
  },
  {
   "cell_type": "code",
   "execution_count": 16,
   "id": "c0a4a7c3-9f70-4f31-a9e0-6ee6969ddf3b",
   "metadata": {},
   "outputs": [
    {
     "name": "stdout",
     "output_type": "stream",
     "text": [
      "Gamma = 1.0: Pain P-value = 0.6629320593594055, Urgency P-value = 0.7085524029392993, Frequency P-value = 0.28430461881660096\n",
      "Gamma = 1.5: Pain P-value = 0.6629320593594055, Urgency P-value = 0.7085524029392993, Frequency P-value = 0.28430461881660096\n",
      "Gamma = 2.0: Pain P-value = 0.6629320593594055, Urgency P-value = 0.7085524029392993, Frequency P-value = 0.28430461881660096\n",
      "Gamma = 2.5: Pain P-value = 0.6629320593594055, Urgency P-value = 0.7085524029392993, Frequency P-value = 0.28430461881660096\n",
      "Gamma = 3.0: Pain P-value = 0.6629320593594055, Urgency P-value = 0.7085524029392993, Frequency P-value = 0.28430461881660096\n"
     ]
    }
   ],
   "source": [
    "# Sensitivity analysis function\n",
    "def sensitivity_analysis(balanced_pairs_df, gamma_values):\n",
    "    results = []\n",
    "    for gamma in gamma_values:\n",
    "        adjusted_pvalues = []\n",
    "        for contrast in ['pain_contrast', 'urgency_contrast', 'frequency_contrast']:\n",
    "            adjusted_data = balanced_pairs_df[contrast].dropna() * gamma\n",
    "            pvalue = wilcoxon(adjusted_data).pvalue\n",
    "            adjusted_pvalues.append(pvalue)\n",
    "        results.append((gamma, adjusted_pvalues))\n",
    "    return results\n",
    "\n",
    "# Perform sensitivity analysis\n",
    "gamma_values = [1.0, 1.5, 2.0, 2.5, 3.0]\n",
    "sensitivity_results = sensitivity_analysis(balanced_pairs_df, gamma_values)\n",
    "\n",
    "# Display sensitivity results\n",
    "for gamma, pvalues in sensitivity_results:\n",
    "    print(f\"Gamma = {gamma}: Pain P-value = {pvalues[0]}, Urgency P-value = {pvalues[1]}, Frequency P-value = {pvalues[2]}\")"
   ]
  },
  {
   "cell_type": "markdown",
   "id": "c80f47d0-a9e8-49f5-aca5-b2b4a88f2b93",
   "metadata": {},
   "source": [
    "**Interpretation**\n",
    "- If p-values remain **<0.05** across gamma values, the findings are robust.\n",
    "- If p-values increase and become non-significant, the results are sensitive to bias.\n"
   ]
  },
  {
   "cell_type": "markdown",
   "id": "b3b24ebc-3f6f-4a0d-9baf-32f1fdc4cd1c",
   "metadata": {},
   "source": [
    "### **7.4 Equivalence Testing**\n",
    "Equivalence testing checks if the treatment effects are small enough to be considered negligible. This is useful when the goal is to demonstrate no significant difference."
   ]
  },
  {
   "cell_type": "code",
   "execution_count": 17,
   "id": "514feb47-a527-439b-a021-27afa1801ad5",
   "metadata": {},
   "outputs": [
    {
     "name": "stdout",
     "output_type": "stream",
     "text": [
      "Pain is equivalent: False\n",
      "Urgency is equivalent: False\n",
      "Frequency is equivalent: False\n"
     ]
    }
   ],
   "source": [
    "# Equivalence testing\n",
    "def test_equivalence(contrast, margin):\n",
    "    lower_bound = np.percentile(contrast, 2.5)\n",
    "    upper_bound = np.percentile(contrast, 97.5)\n",
    "    return (lower_bound > -margin) and (upper_bound < margin)\n",
    "\n",
    "equivalence_margin = 1.0\n",
    "pain_equivalent = test_equivalence(balanced_pairs_df['pain_contrast'].dropna(), equivalence_margin)\n",
    "urgency_equivalent = test_equivalence(balanced_pairs_df['urgency_contrast'].dropna(), equivalence_margin)\n",
    "frequency_equivalent = test_equivalence(balanced_pairs_df['frequency_contrast'].dropna(), equivalence_margin)\n",
    "\n",
    "print(f\"Pain is equivalent: {pain_equivalent}\")\n",
    "print(f\"Urgency is equivalent: {urgency_equivalent}\")\n",
    "print(f\"Frequency is equivalent: {frequency_equivalent}\")"
   ]
  },
  {
   "cell_type": "markdown",
   "id": "1971a5dc-9091-4325-bced-86a24ad5cb52",
   "metadata": {},
   "source": [
    "**Interpretation**\n",
    "- True: The difference is small enough to be considered practically negligible.\n",
    "- False: The difference is too large to claim equivalence."
   ]
  },
  {
   "cell_type": "markdown",
   "id": "c57462b8-0a0f-4a65-9749-9ad81ed778c5",
   "metadata": {},
   "source": [
    "### **7.5 Summary Table & Visualization**\n",
    "To summarize findings, we present a summary table and visualize the sensitivity analysis."
   ]
  },
  {
   "cell_type": "code",
   "execution_count": 18,
   "id": "4e4d733a-66ec-4cca-b917-7af243f40b65",
   "metadata": {},
   "outputs": [
    {
     "name": "stdout",
     "output_type": "stream",
     "text": [
      "     Outcome  Trimean   P-value  Equivalent\n",
      "0       Pain    0.000  0.662932       False\n",
      "1    Urgency    0.000  0.708552       False\n",
      "2  Frequency   -0.125  0.284305       False\n"
     ]
    },
    {
     "data": {
      "image/png": "[encoded data removed]",
      "text/plain": [
       "<Figure size 1000x600 with 1 Axes>"
      ]
     },
     "metadata": {},
     "output_type": "display_data"
    }
   ],
   "source": [
    "# Summary table\n",
    "summary_table = pd.DataFrame({\n",
    "    'Outcome': ['Pain', 'Urgency', 'Frequency'],\n",
    "    'Trimean': [pain_trimean, urgency_trimean, frequency_trimean],\n",
    "    'P-value': [pain_pvalue, urgency_pvalue, frequency_pvalue],\n",
    "    'Equivalent': [pain_equivalent, urgency_equivalent, frequency_equivalent]\n",
    "})\n",
    "print(summary_table)\n",
    "\n",
    "# Sensitivity analysis visualization\n",
    "plt.figure(figsize=(10, 6))\n",
    "gamma_values = [result[0] for result in sensitivity_results]\n",
    "pain_pvalues = [result[1][0] for result in sensitivity_results]\n",
    "urgency_pvalues = [result[1][1] for result in sensitivity_results]\n",
    "frequency_pvalues = [result[1][2] for result in sensitivity_results]\n",
    "plt.plot(gamma_values, pain_pvalues, marker='o', label='Pain')\n",
    "plt.plot(gamma_values, urgency_pvalues, marker='o', label='Urgency')\n",
    "plt.plot(gamma_values, frequency_pvalues, marker='o', label='Frequency')\n",
    "plt.axhline(0.05, color='red', linestyle='--', label='Significance Threshold (0.05)')\n",
    "plt.xlabel('Gamma (Γ)')\n",
    "plt.ylabel('P-value')\n",
    "plt.title('Sensitivity Analysis')\n",
    "plt.legend()\n",
    "plt.grid(True)\n",
    "plt.show()"
   ]
  },
  {
   "cell_type": "markdown",
   "id": "abe7173e-0331-4ca6-a656-fd06e073c359",
   "metadata": {},
   "source": [
    "## **Findings and Interpretation**\n",
    "Based on the results from statistical analysis, here’s what we can conclude:\n",
    "\n",
    "1. Trimean Values\n",
    "- Pain: 0.0\n",
    "- Urgency: 0.0\n",
    "- Frequency: -0.125\n",
    "\n",
    "Interpretation:\n",
    "- The trimeans are very close to zero, suggesting no strong treatment effect.\n",
    "A slight negative value for Frequency (-0.125) means the treatment group had a slightly lower frequency score, but the difference is small.\n",
    "\n",
    "2. Wilcoxon Signed-Rank Test (P-values)\n",
    "- Pain: 0.6629\n",
    "- Urgency: 0.7086\n",
    "- Frequency: 0.2843\n",
    "\n",
    "Interpretation:\n",
    "- All p-values are above 0.05, indicating no statistically significant difference between treatment and control groups.\n",
    "Frequency (p = 0.2843) is the lowest, but still not significant, meaning there’s no strong evidence of a treatment effect.\n",
    "\n",
    "3. Sensitivity Analysis (Gamma = 1.0 to 3.0)\n",
    "- P-values remain constant across different gamma values, indicating that the results are robust to hidden bias.\n",
    "\n",
    "Interpretation:\n",
    "- Since p-values are always greater than 0.05, even with increasing Γ, the results do not become significant under any bias level.\n",
    "- This suggests that even if there were unmeasured confounders, they would not change the conclusion.\n",
    "\n",
    "4. Equivalence Testing\n",
    "- Pain: False\n",
    "- Urgency: False\n",
    "- Frequency: False\n",
    "\n",
    "Interpretation:\n",
    "- None of the differences are small enough to be considered equivalent.\n",
    "This means that while we fail to find a significant effect, we also cannot claim that the groups are equivalent—there could still be some undetected difference."
   ]
  },
  {
   "cell_type": "markdown",
   "id": "e2b5bb83-5185-43d4-b444-035836a00993",
   "metadata": {},
   "source": [
    "## **Conclusion**\n",
    "The statistical analysis suggests that the treatment does not have a significant impact on Pain, Urgency, or Frequency scores. The trimean values are close to zero, and the Wilcoxon signed-rank test results show no statistically significant differences between the treatment and control groups (all p-values > 0.05).\n",
    "\n",
    "Additionally, sensitivity analysis confirms that the findings are robust, meaning that even if there were hidden biases, they would not change the overall conclusion.\n",
    "\n",
    "However, equivalence testing indicates that we cannot conclusively say the groups are equivalent either. This means that while there is no strong evidence of a treatment effect, we also cannot rule out small, undetected differences."
   ]
  }
 ],
 "metadata": {
  "kernelspec": {
   "display_name": "Python 3 (ipykernel)",
   "language": "python",
   "name": "python3"
  },
  "language_info": {
   "codemirror_mode": {
    "name": "ipython",
    "version": 3
   },
   "file_extension": ".py",
   "mimetype": "text/x-python",
   "name": "python",
   "nbconvert_exporter": "python",
   "pygments_lexer": "ipython3",
   "version": "3.12.3"
  }
 },
 "nbformat": 4,
 "nbformat_minor": 5
}
