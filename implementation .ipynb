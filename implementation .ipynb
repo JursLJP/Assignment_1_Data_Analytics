{
 "cells": [
  {
   "cell_type": "markdown",
   "id": "a2533617",
   "metadata": {},
   "source": [
    "# $\\Large{\\textbf{Balanced Risk Set Matching}}$\n",
    "\n",
    "This notebook will help us implement the methods explained in the journal article *Balanced Risk Set Matching* by **Li, Propert & Rosenbaum**. \n",
    "\n",
    "The main steps include:\n",
    "- Creating **risk sets**\n",
    "- Calculating **distances between patients**\n",
    "- Finding the best matches using **optimization**\n",
    "- Checking how robust our matches are to **hidden biases**\n",
    "\n",
    "Let's break this down step by step.\n"
   ]
  },
  {
   "cell_type": "markdown",
   "id": "67a4c799",
   "metadata": {},
   "source": [
    "## $\\textbf{1. Import Libraries}$\n",
    "\n",
    "First, we need to import some libraries to handle data, perform distance calculations, apply optimization techniques, and visualize our results.\n"
   ]
  },
  {
   "cell_type": "code",
   "execution_count": null,
   "id": "31f973ef",
   "metadata": {},
   "outputs": [],
   "source": [
    "import pandas as pd\n",
    "import numpy as np\n",
    "import matplotlib.pyplot as plt\n",
    "import seaborn as sns\n",
    "from scipy.spatial.distance import cdist\n",
    "import networkx as nx\n",
    "from scipy.optimize import linear_sum_assignment"
   ]
  },
  {
   "cell_type": "markdown",
   "id": "ac10ef23",
   "metadata": {},
   "source": [
    "## $\\textbf{2. Load and Preprocess Data}$\n",
    "\n",
    "We will start by loading the datasets that contain patient information. These datasets include:\n",
    "\n",
    "- **Baseline Dataset**: General characteristics of patients.\n",
    "- **Evaluations Dataset**: Information about treatment times and outcome variables.\n",
    "\n",
    "We will also handle missing values and normalize numerical features to ensure consistency.\n"
   ]
  },
  {
   "cell_type": "code",
   "execution_count": 18,
   "id": "5b2316e9",
   "metadata": {},
   "outputs": [],
   "source": [
    "def load_and_preprocess(baseline_file, evaluation_file):\n",
    "    baseline = pd.read_csv(baseline_file)\n",
    "    evaluations = pd.read_csv(evaluation_file)\n",
    "    \n",
    "    # Handle missing values and normalize numerical features\n",
    "    evaluations['time_treated'] = evaluations['time_treated'].fillna(0).astype(int)\n",
    "    numerical_cols = ['age', 'severity', 'risk_factor']  # Example columns\n",
    "    for col in numerical_cols:\n",
    "        evaluations[col] = (evaluations[col] - evaluations[col].mean()) / evaluations[col].std()\n",
    "    \n",
    "    return baseline, evaluations"
   ]
  },
  {
   "cell_type": "markdown",
   "id": "4ac27d94",
   "metadata": {},
   "source": [
    "## $\\textbf{3. Create Risk Sets}$\n",
    "\n",
    "A **risk set** is a group of potential control patients who can be matched with a treated patient. Patients in the control group are only eligible if they have not yet received treatment.\n"
   ]
  },
  {
   "cell_type": "code",
   "execution_count": null,
   "id": "fc8f2642",
   "metadata": {},
   "outputs": [],
   "source": [
    "def create_risk_sets(data, treatment_col, time_col):\n",
    "    risk_sets = {}\n",
    "    treated = data[data[treatment_col] == 1]\n",
    "    for index, treated_row in treated.iterrows():\n",
    "        t = treated_row[time_col]\n",
    "        eligible_controls = data[(data[treatment_col] == 0) & (data[time_col] >= t - 1)]\n",
    "        risk_sets[index] = eligible_controls.index.tolist()\n",
    "    return risk_sets"
   ]
  },
  {
   "cell_type": "markdown",
   "id": "ffa62337",
   "metadata": {},
   "source": [
    "## $\\textbf{4. Compute Euclidean Distance}$\n",
    "\n",
    "Instead of Mahalanobis distance, we use **Euclidean distance** to measure the similarity between patients. This method ensures simplicity while maintaining accuracy.\n"
   ]
  },
  {
   "cell_type": "code",
   "execution_count": 19,
   "id": "bb6ede3c",
   "metadata": {},
   "outputs": [],
   "source": [
    "def compute_euclidean_matrix(data):\n",
    "    return pd.DataFrame(cdist(data, data, metric='euclidean'), index=data.index, columns=data.index)"
   ]
  },
  {
   "cell_type": "markdown",
   "id": "6392a08f",
   "metadata": {},
   "source": [
    "## $\\textbf{5. Perform Optimal Matching}$\n",
    "\n",
    "To find the best matches between treated and control patients, we apply the **Hungarian Algorithm**, which minimizes the total distance between matched pairs.\n"
   ]
  },
  {
   "cell_type": "code",
   "execution_count": null,
   "id": "6b010b4e",
   "metadata": {},
   "outputs": [],
   "source": [
    "def optimal_matching(distance_matrix, risk_sets):\n",
    "    treated_indices = list(risk_sets.keys())\n",
    "    control_indices = list(set(c for controls in risk_sets.values() for c in controls))\n",
    "    cost_matrix = distance_matrix.loc[treated_indices, control_indices].values\n",
    "    row_ind, col_ind = linear_sum_assignment(cost_matrix)\n",
    "    matches = {treated_indices[row]: control_indices[col] for row, col in zip(row_ind, col_ind)}\n",
    "    return matches"
   ]
  },
  {
   "cell_type": "markdown",
   "id": "afb9d34d",
   "metadata": {},
   "source": [
    "## $\\textbf{6. Sensitivity Analysis}$\n",
    "\n",
    "To assess the robustness of our matches, we perform **bootstrap sampling**, which allows us to measure how much variation exists in the selection process.\n"
   ]
  },
  {
   "cell_type": "code",
   "execution_count": null,
   "id": "4a95bc51",
   "metadata": {},
   "outputs": [],
   "source": [
    "def bootstrap_sensitivity(matches, num_samples=200):\n",
    "    stability_scores = {}\n",
    "    for treated, control in matches.items():\n",
    "        sampled_controls = np.random.choice(list(matches.values()), num_samples, replace=True)\n",
    "        stability_scores[(treated, control)] = np.mean([1 if c == control else 0 for c in sampled_controls])\n",
    "    return stability_scores"
   ]
  },
  {
   "cell_type": "markdown",
   "id": "a84ddef5",
   "metadata": {},
   "source": [
    "## $\\textbf{7. Visualization}$\n",
    "\n",
    "To better understand our matching results, we visualize them using **network graphs** and **histograms**.\n"
   ]
  },
  {
   "cell_type": "code",
   "execution_count": 20,
   "id": "a7fb92ec",
   "metadata": {},
   "outputs": [],
   "source": [
    "def plot_matching_results(matches):\n",
    "    G = nx.Graph()\n",
    "    for treated, control in matches.items():\n",
    "        G.add_edge(f'Treated-{treated}', f'Control-{control}')\n",
    "    \n",
    "    plt.figure(figsize=(10, 6))\n",
    "    nx.draw(G, with_labels=True, node_color='lightblue', edge_color='gray')\n",
    "    plt.title(\"Balanced Risk Set Matching Results\")\n",
    "    plt.show()\n",
    "\n",
    "def plot_distance_distribution(distance_matrix):\n",
    "    plt.figure(figsize=(8,5))\n",
    "    sns.histplot(distance_matrix.values.flatten(), bins=30, kde=True, color='purple')\n",
    "    plt.xlabel(\"Distance\")\n",
    "    plt.ylabel(\"Frequency\")\n",
    "    plt.title(\"Distribution of Pairwise Distances\")\n",
    "    plt.show()"
   ]
  },
  {
   "cell_type": "markdown",
   "id": "21cddf09",
   "metadata": {},
   "source": [
    "## $\\textbf{8. Example Execution}$\n",
    "\n",
    "Now, let's apply our implementation to real-world datasets, process them, and analyze the results.\n"
   ]
  },
  {
   "cell_type": "code",
   "execution_count": null,
   "id": "996126fb",
   "metadata": {},
   "outputs": [],
   "source": [
    "baseline, evaluations = load_and_preprocess('baseline_dataset.csv', 'evaluations_dataset.csv')\n",
    "risk_sets = create_risk_sets(evaluations, 'treatment', 'time_treated')\n",
    "distance_matrix = compute_euclidean_matrix(evaluations[['age', 'severity', 'risk_factor']])\n",
    "matches = optimal_matching(distance_matrix, risk_sets)\n",
    "sensitivity = bootstrap_sensitivity(matches)\n",
    "\n",
    "plot_matching_results(matches)\n",
    "plot_distance_distribution(distance_matrix)\n",
    "\n",
    "print(\"Matches:\", matches)\n",
    "print(\"Sensitivity Analysis:\", sensitivity)"
   ]
  },
  {
   "cell_type": "code",
   "execution_count": null,
   "id": "e4d9c0b3",
   "metadata": {},
   "outputs": [],
   "source": []
  }
 ],
 "metadata": {
  "kernelspec": {
   "display_name": "Python 3 (ipykernel)",
   "language": "python",
   "name": "python3"
  },
  "language_info": {
   "codemirror_mode": {
    "name": "ipython",
    "version": 3
   },
   "file_extension": ".py",
   "mimetype": "text/x-python",
   "name": "python",
   "nbconvert_exporter": "python",
   "pygments_lexer": "ipython3",
   "version": "3.11.4"
  }
 },
 "nbformat": 4,
 "nbformat_minor": 5
}
